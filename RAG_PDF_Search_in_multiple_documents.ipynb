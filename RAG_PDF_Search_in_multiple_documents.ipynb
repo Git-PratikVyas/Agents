{
    "cells": [
        {
            "cell_type": "markdown",
            "metadata": {
                "id": "5f331c2c21cb"
            },
            "source": [
                "# RAG - PDF Search in multiple documents\n"
            ]
        },
        {
            "cell_type": "markdown",
            "metadata": {
                "id": "69d82e84067b"
            },
            "source": [
                "## Installing and importing dependencies"
            ]
        },
        {
            "cell_type": "code",
            "execution_count": null,
            "metadata": {
                "id": "_2ac23WaxVGR",
                "colab": {
                    "base_uri": "https://localhost:8080/"
                },
                "outputId": "9120576e-1348-4dc1-b2a1-9b241981af0a"
            },
            "outputs": [
                {
                    "output_type": "stream",
                    "name": "stdout",
                    "text": [
                        "\u001b[2K   \u001b[90m━━━━━━━━━━━━━━━━━━━━━━━━━━━━━━━━━━━━━━━━\u001b[0m \u001b[32m30.7/30.7 MB\u001b[0m \u001b[31m35.3 MB/s\u001b[0m eta \u001b[36m0:00:00\u001b[0m\n",
                        "\u001b[2K   \u001b[90m━━━━━━━━━━━━━━━━━━━━━━━━━━━━━━━━━━━━━━━━\u001b[0m \u001b[32m363.4/363.4 MB\u001b[0m \u001b[31m3.6 MB/s\u001b[0m eta \u001b[36m0:00:00\u001b[0m\n",
                        "\u001b[2K   \u001b[90m━━━━━━━━━━━━━━━━━━━━━━━━━━━━━━━━━━━━━━━━\u001b[0m \u001b[32m13.8/13.8 MB\u001b[0m \u001b[31m52.1 MB/s\u001b[0m eta \u001b[36m0:00:00\u001b[0m\n",
                        "\u001b[2K   \u001b[90m━━━━━━━━━━━━━━━━━━━━━━━━━━━━━━━━━━━━━━━━\u001b[0m \u001b[32m24.6/24.6 MB\u001b[0m \u001b[31m34.9 MB/s\u001b[0m eta \u001b[36m0:00:00\u001b[0m\n",
                        "\u001b[2K   \u001b[90m━━━━━━━━━━━━━━━━━━━━━━━━━━━━━━━━━━━━━━━━\u001b[0m \u001b[32m883.7/883.7 kB\u001b[0m \u001b[31m19.8 MB/s\u001b[0m eta \u001b[36m0:00:00\u001b[0m\n",
                        "\u001b[2K   \u001b[90m━━━━━━━━━━━━━━━━━━━━━━━━━━━━━━━━━━━━━━━━\u001b[0m \u001b[32m664.8/664.8 MB\u001b[0m \u001b[31m2.8 MB/s\u001b[0m eta \u001b[36m0:00:00\u001b[0m\n",
                        "\u001b[2K   \u001b[90m━━━━━━━━━━━━━━━━━━━━━━━━━━━━━━━━━━━━━━━━\u001b[0m \u001b[32m211.5/211.5 MB\u001b[0m \u001b[31m5.6 MB/s\u001b[0m eta \u001b[36m0:00:00\u001b[0m\n",
                        "\u001b[2K   \u001b[90m━━━━━━━━━━━━━━━━━━━━━━━━━━━━━━━━━━━━━━━━\u001b[0m \u001b[32m56.3/56.3 MB\u001b[0m \u001b[31m18.0 MB/s\u001b[0m eta \u001b[36m0:00:00\u001b[0m\n",
                        "\u001b[2K   \u001b[90m━━━━━━━━━━━━━━━━━━━━━━━━━━━━━━━━━━━━━━━━\u001b[0m \u001b[32m127.9/127.9 MB\u001b[0m \u001b[31m7.4 MB/s\u001b[0m eta \u001b[36m0:00:00\u001b[0m\n",
                        "\u001b[2K   \u001b[90m━━━━━━━━━━━━━━━━━━━━━━━━━━━━━━━━━━━━━━━━\u001b[0m \u001b[32m207.5/207.5 MB\u001b[0m \u001b[31m6.0 MB/s\u001b[0m eta \u001b[36m0:00:00\u001b[0m\n",
                        "\u001b[2K   \u001b[90m━━━━━━━━━━━━━━━━━━━━━━━━━━━━━━━━━━━━━━━━\u001b[0m \u001b[32m21.1/21.1 MB\u001b[0m \u001b[31m87.0 MB/s\u001b[0m eta \u001b[36m0:00:00\u001b[0m\n",
                        "\u001b[2K   \u001b[90m━━━━━━━━━━━━━━━━━━━━━━━━━━━━━━━━━━━━━━━━\u001b[0m \u001b[32m232.6/232.6 kB\u001b[0m \u001b[31m19.9 MB/s\u001b[0m eta \u001b[36m0:00:00\u001b[0m\n",
                        "\u001b[?25h"
                    ]
                }
            ],
            "source": [
                "!pip install -q transformers sentence_transformers faiss-cpu torch PyPDF2 nltk"
            ]
        },
        {
            "cell_type": "code",
            "execution_count": null,
            "metadata": {
                "id": "HxlPGnyo0lei",
                "colab": {
                    "base_uri": "https://localhost:8080/"
                },
                "outputId": "67a83017-6937-419b-9527-bde31feb8b27"
            },
            "outputs": [
                {
                    "output_type": "stream",
                    "name": "stderr",
                    "text": [
                        "[nltk_data] Downloading package punkt to /root/nltk_data...\n",
                        "[nltk_data]   Unzipping tokenizers/punkt.zip.\n"
                    ]
                }
            ],
            "source": [
                "import torch\n",
                "from transformers import AutoTokenizer, AutoModelForCausalLM\n",
                "from sentence_transformers import SentenceTransformer\n",
                "import faiss\n",
                "import numpy as np\n",
                "import pandas as pd\n",
                "import PyPDF2\n",
                "import os\n",
                "import nltk\n",
                "\n",
                "nltk.download(\"punkt\")\n",
                "from nltk.tokenize import sent_tokenize\n",
                "from google.colab import userdata"
            ]
        },
        {
            "cell_type": "markdown",
            "metadata": {
                "id": "a2694611f02f"
            },
            "source": [
                "## Setting up the model and tokenizer"
            ]
        },
        {
            "cell_type": "code",
            "execution_count": null,
            "metadata": {
                "id": "rQulEL_Ry-J4",
                "colab": {
                    "base_uri": "https://localhost:8080/",
                    "height": 369,
                    "referenced_widgets": [
                        "8de7d3310a2c48c1bfbbb5c1937914c2",
                        "536365611d334646b95445fbd03cb96e",
                        "48da9b0b9a9749c787bb7844f859040c",
                        "7b14bcd6a1254d3a8190bb6bc18945bb",
                        "5bccef6cfe4c439084bf2bd1dd4fbbda",
                        "2d0e6b72609c41b8b545e49990b6c342",
                        "f765760c8f7b447097884ea133ae680b",
                        "e07bf0fb8c394024ad2c99659c5f4e9f",
                        "2922d3a1de8447a3ae3f39d001aa9172",
                        "5cfa2ef875104608bba44d372b41f800",
                        "bf1881e3121e420a82d8f2c5db331243",
                        "762d5503aa294411ac25a73e8efa6501",
                        "d7738bbfb8804aecbbf424c177beced4",
                        "eb6f20a784f54ab2949325e0b5ebb92c",
                        "ecdf21ca5452408c967fb93bb06e7da4",
                        "13019437621d44dd8f41f10e4fde243d",
                        "69fdae11b512419daf74b4c3989bae51",
                        "9fc12c25e7ea49e5b346054c22b7a9b4",
                        "2eccf509897d462bb29b4009af6a6ffd",
                        "4e4119102d134f2cb8aa946f4b0bfba1",
                        "ddf9a3257d824b86ba724f3f85111e79",
                        "d0423ca41fc643edb45b24ae8aa1efc4",
                        "d74798ad8b1548e48318b0fd63808960",
                        "d66a97389fcc4fe18ef119cf4f65034f",
                        "2f34e056ac2b497da22077f99c7c0268",
                        "1bcdd4f731bb4efe942d71f3920dcb54",
                        "c632c56def364ab8bd41e1475f8ff7ea",
                        "109ca7495f5a4a65b8c1c6269d3ddf30",
                        "f4b1aef97c6f496b907443009a8a0929",
                        "105182ece981497f82e425da3501b281",
                        "d7f8d90ac56a4c6383ce1ef3ea4ac135",
                        "1368f008fa81413b927051ec887dcf76",
                        "9255ee330e7245a4bf55ec252ed731e3",
                        "4f5cbcb137984158aa48efc68792437c",
                        "5706e03e190c4dde89346ed785e2fa4c",
                        "901fe9073b5a4795b349f47596b91a46",
                        "d02a9402c1f34850ad2d59226941f553",
                        "969f6cfaa18e4528aa21c96b273fa81b",
                        "df7a9daeaee141aab229904c8d9b6dfe",
                        "cdfd9721542043adbee69d67880a3047",
                        "7f84dcca71fb43c9a42018bf1c790a29",
                        "ae8b6aae67de4b0d9e43c3064677fe24",
                        "efa44c9355254d2baf7121c39e937724",
                        "6714cc16027e4f10bd26fe94b80d35d6",
                        "b9c3e2585cc345d4acac1394774d9de0",
                        "12a786833f7b42378c030f8fa26929fd",
                        "941ce1a1081a4a408156024794cd7cb9",
                        "8c44c113cff04c82928bdfc2964744d2",
                        "ebd421142b964e4da215ee97593f18c6",
                        "1648104d7d5c4173bb412c1547c719cd",
                        "b202004401714cf8b3a93003af488755",
                        "c969a48132394ba3abae51442ed2729b",
                        "4e3c39ed2d8549909896f3c52e48f1aa",
                        "80224f416f464d1097ce2af9a2249621",
                        "50bd65fb58b7415da5a39100d6d223c4",
                        "d0d4afa4aea84c22beccdee2ea9f4d58",
                        "05041819645c4ad7884b9236999735eb",
                        "a7496636222e42c7a9ea7ac0d21a099f",
                        "f1e6416474ab458b826a18d95a8eea1a",
                        "abf53fac44cd4adc90d037d2207f7315",
                        "aa081407ca0e480aa802397a4154dc79",
                        "9befabf82b8b41b186913230380d5087",
                        "dcd219ceab75424ca08303cc11e86832",
                        "3da749598cd7440498c2eb5dd370095c",
                        "f5fcbf492d4c4e85be58f36606ef1394",
                        "cc36b40e8f4b4944ada6115abdbf0226",
                        "0237f527eb7141b4b0d463d2775fd370",
                        "990d13bf69134d9cbfba35f4d8f59304",
                        "bbce42b8a80c4924901249d870f13650",
                        "60af9dd566694a7c9856a13c6276dae8",
                        "08c92aa547e94a5f89f36da7df4dba95",
                        "58ede5b0462946b89bcfe5e9b36e26d4",
                        "64647a7216ce49e7b3820505eef89df1",
                        "ed5738c917804b2a863c9922ec34c7e1",
                        "8ca68b2399764cdeab7ad3e57cdc6002",
                        "b97e1a3012444f18946a9b3dd18b6403",
                        "4d83f1957d324bf78b65dca5462e1622",
                        "f0e9824a9e1e4c9eb0954f4b05efaf78",
                        "86c43bd3e07149069a49276d9045ceab",
                        "23cf473771754c5387537faef58b8728",
                        "b8ddd95ff3034313815ceeeebdb9de57",
                        "bd66046b1d3949578b70290d71d41822",
                        "31c27f1e02704658aa3adae05bf8a81a",
                        "dafe522214874d25b6d704a25dbea775",
                        "9502fa0abf4245128a70d2311ab7bf9b",
                        "aa042afaae2243ca8a7d978fb20c2eb4",
                        "8b28cdbeb5b841e8b8b53a107fb5a299",
                        "52da25d527fa491c98140e9a42e88087",
                        "8ac3812abf1d4a08a25fb8fd5e2726d9",
                        "5459e91b4e964a838bede8c1c8145ed3",
                        "e05d0d47a16049f28a6c35d8f7b3b30f",
                        "2fd3be972ded49f9bd7ff7258f1408c8",
                        "1043db96c3a14517a0c982c29ba2afc8",
                        "401a18d8e3954f1589978ad70aeadd1a",
                        "7b85f8fe91b14b168aae8af840936168",
                        "dbbbb9445570437a9ca40e35dae630a6",
                        "506f6a1bc19a44a6b354e579f912a014",
                        "b51da094601142e29b5902a6180a9ae6",
                        "24a004e3e5ff4645b70d1be4a69e9721",
                        "b6a56327dd9b46c4a3ad8b0947edb653",
                        "33660c8cce5d41b49770f47878ff80ed",
                        "9ec3a4ec4d32450aa59f611053812988",
                        "a4cac54e156f440cb3a252b63ed10ace",
                        "89662c168e7742e2ae828cb4bde38973",
                        "837da581a25a46009d6180bee26a21d8",
                        "fb32902a8dec4e58a5684b75fc2c86b6",
                        "d03899d2841f4227a846145923b5c8bf",
                        "f0e61119a5b24af3ae705a6aad2ee27f",
                        "7313f6d991934b25ade4804855a60614",
                        "ff7a581c9a744e1fbe1182515dcb2acd",
                        "4b1e1915e3664cb0ac4f06b2a58bc1fd",
                        "a75588c8c17743fc9615887dcb821065",
                        "1350118622ea46aca77dbc6c0684c0de",
                        "8ff77d8527df43cd88b05ffb096e2b71",
                        "8a4dad7826eb4a57b2b06ff78d973f5c",
                        "d1ad9a082f054110ba4e3bfc8188f948",
                        "ba7c4634799a4fa4ba9693efcfb824b9",
                        "aeeb056b9c814c878926aa666e1cb7b5",
                        "b739d4be326f4e52bb515c6ee5658c11",
                        "e406afc4abba42609abe35f1b4b8e2aa",
                        "206493f5b8d74d98b23b74e4c063a259"
                    ]
                },
                "outputId": "2edcbafd-1473-4e92-e5cb-b87346318374"
            },
            "outputs": [
                {
                    "output_type": "display_data",
                    "data": {
                        "text/plain": [
                            "config.json:   0%|          | 0.00/838 [00:00<?, ?B/s]"
                        ],
                        "application/vnd.jupyter.widget-view+json": {
                            "version_major": 2,
                            "version_minor": 0,
                            "model_id": "8de7d3310a2c48c1bfbbb5c1937914c2"
                        }
                    },
                    "metadata": {}
                },
                {
                    "output_type": "display_data",
                    "data": {
                        "text/plain": [
                            "model.safetensors.index.json:   0%|          | 0.00/24.2k [00:00<?, ?B/s]"
                        ],
                        "application/vnd.jupyter.widget-view+json": {
                            "version_major": 2,
                            "version_minor": 0,
                            "model_id": "762d5503aa294411ac25a73e8efa6501"
                        }
                    },
                    "metadata": {}
                },
                {
                    "output_type": "display_data",
                    "data": {
                        "text/plain": [
                            "Downloading shards:   0%|          | 0/2 [00:00<?, ?it/s]"
                        ],
                        "application/vnd.jupyter.widget-view+json": {
                            "version_major": 2,
                            "version_minor": 0,
                            "model_id": "d74798ad8b1548e48318b0fd63808960"
                        }
                    },
                    "metadata": {}
                },
                {
                    "output_type": "display_data",
                    "data": {
                        "text/plain": [
                            "model-00001-of-00002.safetensors:   0%|          | 0.00/4.99G [00:00<?, ?B/s]"
                        ],
                        "application/vnd.jupyter.widget-view+json": {
                            "version_major": 2,
                            "version_minor": 0,
                            "model_id": "4f5cbcb137984158aa48efc68792437c"
                        }
                    },
                    "metadata": {}
                },
                {
                    "output_type": "display_data",
                    "data": {
                        "text/plain": [
                            "model-00002-of-00002.safetensors:   0%|          | 0.00/241M [00:00<?, ?B/s]"
                        ],
                        "application/vnd.jupyter.widget-view+json": {
                            "version_major": 2,
                            "version_minor": 0,
                            "model_id": "b9c3e2585cc345d4acac1394774d9de0"
                        }
                    },
                    "metadata": {}
                },
                {
                    "output_type": "display_data",
                    "data": {
                        "text/plain": [
                            "Loading checkpoint shards:   0%|          | 0/2 [00:00<?, ?it/s]"
                        ],
                        "application/vnd.jupyter.widget-view+json": {
                            "version_major": 2,
                            "version_minor": 0,
                            "model_id": "d0d4afa4aea84c22beccdee2ea9f4d58"
                        }
                    },
                    "metadata": {}
                },
                {
                    "output_type": "display_data",
                    "data": {
                        "text/plain": [
                            "generation_config.json:   0%|          | 0.00/187 [00:00<?, ?B/s]"
                        ],
                        "application/vnd.jupyter.widget-view+json": {
                            "version_major": 2,
                            "version_minor": 0,
                            "model_id": "0237f527eb7141b4b0d463d2775fd370"
                        }
                    },
                    "metadata": {}
                },
                {
                    "output_type": "display_data",
                    "data": {
                        "text/plain": [
                            "tokenizer_config.json:   0%|          | 0.00/47.0k [00:00<?, ?B/s]"
                        ],
                        "application/vnd.jupyter.widget-view+json": {
                            "version_major": 2,
                            "version_minor": 0,
                            "model_id": "f0e9824a9e1e4c9eb0954f4b05efaf78"
                        }
                    },
                    "metadata": {}
                },
                {
                    "output_type": "display_data",
                    "data": {
                        "text/plain": [
                            "tokenizer.model:   0%|          | 0.00/4.24M [00:00<?, ?B/s]"
                        ],
                        "application/vnd.jupyter.widget-view+json": {
                            "version_major": 2,
                            "version_minor": 0,
                            "model_id": "8ac3812abf1d4a08a25fb8fd5e2726d9"
                        }
                    },
                    "metadata": {}
                },
                {
                    "output_type": "display_data",
                    "data": {
                        "text/plain": [
                            "tokenizer.json:   0%|          | 0.00/17.5M [00:00<?, ?B/s]"
                        ],
                        "application/vnd.jupyter.widget-view+json": {
                            "version_major": 2,
                            "version_minor": 0,
                            "model_id": "b6a56327dd9b46c4a3ad8b0947edb653"
                        }
                    },
                    "metadata": {}
                },
                {
                    "output_type": "display_data",
                    "data": {
                        "text/plain": [
                            "special_tokens_map.json:   0%|          | 0.00/636 [00:00<?, ?B/s]"
                        ],
                        "application/vnd.jupyter.widget-view+json": {
                            "version_major": 2,
                            "version_minor": 0,
                            "model_id": "4b1e1915e3664cb0ac4f06b2a58bc1fd"
                        }
                    },
                    "metadata": {}
                }
            ],
            "source": [
                "HUGGING_FACE_ACCESS_TOKEN = userdata.get(\"HF_TOKEN\")\n",
                "\n",
                "model_name = \"google/gemma-2-2b-it\"\n",
                "\n",
                "model = AutoModelForCausalLM.from_pretrained(\n",
                "    model_name, torch_dtype=torch.float16, token=HUGGING_FACE_ACCESS_TOKEN\n",
                ").to(\"cuda\")\n",
                "\n",
                "tokenizer = AutoTokenizer.from_pretrained(model_name, token=HUGGING_FACE_ACCESS_TOKEN)"
            ]
        },
        {
            "cell_type": "markdown",
            "metadata": {
                "id": "b664e2ecaed2"
            },
            "source": [
                "## Extracting and tokenizing info from the PDF files\n",
                "\n",
                "The `extract_text_from_pdf()` function will look for all PDF files in the  folder.\n",
                "\n",
                "The `split_text_into_chunks()` function gets the text and breaks it down into smaller chunks."
            ]
        },
        {
            "cell_type": "code",
            "execution_count": null,
            "metadata": {
                "id": "-JBcrxgxx9Fg"
            },
            "outputs": [],
            "source": [
                "def extract_text_from_pdf(pdf_path):\n",
                "    try:\n",
                "        with open(pdf_path, \"rb\") as file:\n",
                "            reader = PyPDF2.PdfReader(file)\n",
                "            text = \"\".join([page.extract_text() for page in reader.pages])\n",
                "        return text\n",
                "    except Exception as e:\n",
                "        print(f\"Error reading {pdf_path}: {e}\")\n",
                "        return \"\"\n",
                "\n",
                "\n",
                "def split_text_into_chunks(text, max_chunk_size=1000):\n",
                "    sentences = sent_tokenize(text)\n",
                "    chunks = []\n",
                "    current_chunk = \"\"\n",
                "\n",
                "    for sentence in sentences:\n",
                "        if len(current_chunk) + len(sentence) <= max_chunk_size:\n",
                "            current_chunk += sentence + \" \"\n",
                "        else:\n",
                "            chunks.append(current_chunk.strip())\n",
                "            current_chunk = sentence + \" \"\n",
                "\n",
                "    if current_chunk:\n",
                "        chunks.append(current_chunk.strip())\n",
                "\n",
                "    return chunks"
            ]
        },
        {
            "cell_type": "markdown",
            "metadata": {
                "id": "a365c502d491"
            },
            "source": [
                "## Extracting info from the PDFs\n",
                "\n",
                "Set the variable `pdf_directory` with the path where your PDF files are.\n",
                "\n",
                "A Pandas DataFrame is created containing the path of the corresponding PDF, its chunks and the embedding vector of its chunks."
            ]
        },
        {
            "cell_type": "code",
            "source": [
                "import nltk\n",
                "nltk.download('punkt_tab')"
            ],
            "metadata": {
                "colab": {
                    "base_uri": "https://localhost:8080/"
                },
                "id": "KteQaDcm_NKC",
                "outputId": "8b5b00a1-5710-40c3-b79c-2fe24840c0a6"
            },
            "execution_count": null,
            "outputs": [
                {
                    "output_type": "stream",
                    "name": "stderr",
                    "text": [
                        "[nltk_data] Downloading package punkt_tab to /root/nltk_data...\n",
                        "[nltk_data]   Unzipping tokenizers/punkt_tab.zip.\n"
                    ]
                },
                {
                    "output_type": "execute_result",
                    "data": {
                        "text/plain": [
                            "True"
                        ]
                    },
                    "metadata": {},
                    "execution_count": 7
                }
            ]
        },
        {
            "cell_type": "code",
            "execution_count": null,
            "metadata": {
                "id": "jjPD3LOfHYdg",
                "colab": {
                    "base_uri": "https://localhost:8080/",
                    "height": 106
                },
                "outputId": "1587993a-c6dd-48c7-bc0f-53eb32d1ff2f"
            },
            "outputs": [
                {
                    "output_type": "stream",
                    "name": "stdout",
                    "text": [
                        "GDPR-GenAI.pdf\n"
                    ]
                },
                {
                    "output_type": "execute_result",
                    "data": {
                        "text/plain": [
                            "                      path                                        text_chunks  \\\n",
                            "0  /content/GDPR-GenAI.pdf  [1GDPR & Generative AI\\nA Guide for Customers\\...   \n",
                            "\n",
                            "                                          embeddings  \n",
                            "0  [[-0.05703715, 0.032348257, 0.008656179, -0.05...  "
                        ],
                        "text/html": [
                            "\n",
                            "  <div id=\"df-9f11d600-d056-4cec-9eb6-462adab40ecf\" class=\"colab-df-container\">\n",
                            "    <div>\n",
                            "<style scoped>\n",
                            "    .dataframe tbody tr th:only-of-type {\n",
                            "        vertical-align: middle;\n",
                            "    }\n",
                            "\n",
                            "    .dataframe tbody tr th {\n",
                            "        vertical-align: top;\n",
                            "    }\n",
                            "\n",
                            "    .dataframe thead th {\n",
                            "        text-align: right;\n",
                            "    }\n",
                            "</style>\n",
                            "<table border=\"1\" class=\"dataframe\">\n",
                            "  <thead>\n",
                            "    <tr style=\"text-align: right;\">\n",
                            "      <th></th>\n",
                            "      <th>path</th>\n",
                            "      <th>text_chunks</th>\n",
                            "      <th>embeddings</th>\n",
                            "    </tr>\n",
                            "  </thead>\n",
                            "  <tbody>\n",
                            "    <tr>\n",
                            "      <th>0</th>\n",
                            "      <td>/content/GDPR-GenAI.pdf</td>\n",
                            "      <td>[1GDPR &amp; Generative AI\\nA Guide for Customers\\...</td>\n",
                            "      <td>[[-0.05703715, 0.032348257, 0.008656179, -0.05...</td>\n",
                            "    </tr>\n",
                            "  </tbody>\n",
                            "</table>\n",
                            "</div>\n",
                            "    <div class=\"colab-df-buttons\">\n",
                            "\n",
                            "  <div class=\"colab-df-container\">\n",
                            "    <button class=\"colab-df-convert\" onclick=\"convertToInteractive('df-9f11d600-d056-4cec-9eb6-462adab40ecf')\"\n",
                            "            title=\"Convert this dataframe to an interactive table.\"\n",
                            "            style=\"display:none;\">\n",
                            "\n",
                            "  <svg xmlns=\"http://www.w3.org/2000/svg\" height=\"24px\" viewBox=\"0 -960 960 960\">\n",
                            "    <path d=\"M120-120v-720h720v720H120Zm60-500h600v-160H180v160Zm220 220h160v-160H400v160Zm0 220h160v-160H400v160ZM180-400h160v-160H180v160Zm440 0h160v-160H620v160ZM180-180h160v-160H180v160Zm440 0h160v-160H620v160Z\"/>\n",
                            "  </svg>\n",
                            "    </button>\n",
                            "\n",
                            "  <style>\n",
                            "    .colab-df-container {\n",
                            "      display:flex;\n",
                            "      gap: 12px;\n",
                            "    }\n",
                            "\n",
                            "    .colab-df-convert {\n",
                            "      background-color: #E8F0FE;\n",
                            "      border: none;\n",
                            "      border-radius: 50%;\n",
                            "      cursor: pointer;\n",
                            "      display: none;\n",
                            "      fill: #1967D2;\n",
                            "      height: 32px;\n",
                            "      padding: 0 0 0 0;\n",
                            "      width: 32px;\n",
                            "    }\n",
                            "\n",
                            "    .colab-df-convert:hover {\n",
                            "      background-color: #E2EBFA;\n",
                            "      box-shadow: 0px 1px 2px rgba(60, 64, 67, 0.3), 0px 1px 3px 1px rgba(60, 64, 67, 0.15);\n",
                            "      fill: #174EA6;\n",
                            "    }\n",
                            "\n",
                            "    .colab-df-buttons div {\n",
                            "      margin-bottom: 4px;\n",
                            "    }\n",
                            "\n",
                            "    [theme=dark] .colab-df-convert {\n",
                            "      background-color: #3B4455;\n",
                            "      fill: #D2E3FC;\n",
                            "    }\n",
                            "\n",
                            "    [theme=dark] .colab-df-convert:hover {\n",
                            "      background-color: #434B5C;\n",
                            "      box-shadow: 0px 1px 3px 1px rgba(0, 0, 0, 0.15);\n",
                            "      filter: drop-shadow(0px 1px 2px rgba(0, 0, 0, 0.3));\n",
                            "      fill: #FFFFFF;\n",
                            "    }\n",
                            "  </style>\n",
                            "\n",
                            "    <script>\n",
                            "      const buttonEl =\n",
                            "        document.querySelector('#df-9f11d600-d056-4cec-9eb6-462adab40ecf button.colab-df-convert');\n",
                            "      buttonEl.style.display =\n",
                            "        google.colab.kernel.accessAllowed ? 'block' : 'none';\n",
                            "\n",
                            "      async function convertToInteractive(key) {\n",
                            "        const element = document.querySelector('#df-9f11d600-d056-4cec-9eb6-462adab40ecf');\n",
                            "        const dataTable =\n",
                            "          await google.colab.kernel.invokeFunction('convertToInteractive',\n",
                            "                                                    [key], {});\n",
                            "        if (!dataTable) return;\n",
                            "\n",
                            "        const docLinkHtml = 'Like what you see? Visit the ' +\n",
                            "          '<a target=\"_blank\" href=https://colab.research.google.com/notebooks/data_table.ipynb>data table notebook</a>'\n",
                            "          + ' to learn more about interactive tables.';\n",
                            "        element.innerHTML = '';\n",
                            "        dataTable['output_type'] = 'display_data';\n",
                            "        await google.colab.output.renderOutput(dataTable, element);\n",
                            "        const docLink = document.createElement('div');\n",
                            "        docLink.innerHTML = docLinkHtml;\n",
                            "        element.appendChild(docLink);\n",
                            "      }\n",
                            "    </script>\n",
                            "  </div>\n",
                            "\n",
                            "\n",
                            "  <div id=\"id_36b16810-c275-4cfc-8332-2f48ee42ea68\">\n",
                            "    <style>\n",
                            "      .colab-df-generate {\n",
                            "        background-color: #E8F0FE;\n",
                            "        border: none;\n",
                            "        border-radius: 50%;\n",
                            "        cursor: pointer;\n",
                            "        display: none;\n",
                            "        fill: #1967D2;\n",
                            "        height: 32px;\n",
                            "        padding: 0 0 0 0;\n",
                            "        width: 32px;\n",
                            "      }\n",
                            "\n",
                            "      .colab-df-generate:hover {\n",
                            "        background-color: #E2EBFA;\n",
                            "        box-shadow: 0px 1px 2px rgba(60, 64, 67, 0.3), 0px 1px 3px 1px rgba(60, 64, 67, 0.15);\n",
                            "        fill: #174EA6;\n",
                            "      }\n",
                            "\n",
                            "      [theme=dark] .colab-df-generate {\n",
                            "        background-color: #3B4455;\n",
                            "        fill: #D2E3FC;\n",
                            "      }\n",
                            "\n",
                            "      [theme=dark] .colab-df-generate:hover {\n",
                            "        background-color: #434B5C;\n",
                            "        box-shadow: 0px 1px 3px 1px rgba(0, 0, 0, 0.15);\n",
                            "        filter: drop-shadow(0px 1px 2px rgba(0, 0, 0, 0.3));\n",
                            "        fill: #FFFFFF;\n",
                            "      }\n",
                            "    </style>\n",
                            "    <button class=\"colab-df-generate\" onclick=\"generateWithVariable('df_documents')\"\n",
                            "            title=\"Generate code using this dataframe.\"\n",
                            "            style=\"display:none;\">\n",
                            "\n",
                            "  <svg xmlns=\"http://www.w3.org/2000/svg\" height=\"24px\"viewBox=\"0 0 24 24\"\n",
                            "       width=\"24px\">\n",
                            "    <path d=\"M7,19H8.4L18.45,9,17,7.55,7,17.6ZM5,21V16.75L18.45,3.32a2,2,0,0,1,2.83,0l1.4,1.43a1.91,1.91,0,0,1,.58,1.4,1.91,1.91,0,0,1-.58,1.4L9.25,21ZM18.45,9,17,7.55Zm-12,3A5.31,5.31,0,0,0,4.9,8.1,5.31,5.31,0,0,0,1,6.5,5.31,5.31,0,0,0,4.9,4.9,5.31,5.31,0,0,0,6.5,1,5.31,5.31,0,0,0,8.1,4.9,5.31,5.31,0,0,0,12,6.5,5.46,5.46,0,0,0,6.5,12Z\"/>\n",
                            "  </svg>\n",
                            "    </button>\n",
                            "    <script>\n",
                            "      (() => {\n",
                            "      const buttonEl =\n",
                            "        document.querySelector('#id_36b16810-c275-4cfc-8332-2f48ee42ea68 button.colab-df-generate');\n",
                            "      buttonEl.style.display =\n",
                            "        google.colab.kernel.accessAllowed ? 'block' : 'none';\n",
                            "\n",
                            "      buttonEl.onclick = () => {\n",
                            "        google.colab.notebook.generateWithVariable('df_documents');\n",
                            "      }\n",
                            "      })();\n",
                            "    </script>\n",
                            "  </div>\n",
                            "\n",
                            "    </div>\n",
                            "  </div>\n"
                        ],
                        "application/vnd.google.colaboratory.intrinsic+json": {
                            "type": "dataframe",
                            "variable_name": "df_documents",
                            "summary": "{\n  \"name\": \"df_documents\",\n  \"rows\": 1,\n  \"fields\": [\n    {\n      \"column\": \"path\",\n      \"properties\": {\n        \"dtype\": \"string\",\n        \"num_unique_values\": 1,\n        \"samples\": [\n          \"/content/GDPR-GenAI.pdf\"\n        ],\n        \"semantic_type\": \"\",\n        \"description\": \"\"\n      }\n    },\n    {\n      \"column\": \"text_chunks\",\n      \"properties\": {\n        \"dtype\": \"object\",\n        \"semantic_type\": \"\",\n        \"description\": \"\"\n      }\n    },\n    {\n      \"column\": \"embeddings\",\n      \"properties\": {\n        \"dtype\": \"object\",\n        \"semantic_type\": \"\",\n        \"description\": \"\"\n      }\n    }\n  ]\n}"
                        }
                    },
                    "metadata": {},
                    "execution_count": 8
                }
            ],
            "source": [
                "encoder = SentenceTransformer(\"all-MiniLM-L6-v2\")\n",
                "\n",
                "# Process PDF files\n",
                "pdf_directory = \"/content/\"\n",
                "df_documents = pd.DataFrame(columns=[\"path\", \"text_chunks\", \"embeddings\"])\n",
                "\n",
                "for filename in os.listdir(pdf_directory):\n",
                "    if filename.endswith(\".pdf\"):\n",
                "        print(filename)\n",
                "        pdf_path = os.path.join(pdf_directory, filename)\n",
                "        text = extract_text_from_pdf(pdf_path)\n",
                "        chunks = split_text_into_chunks(text)\n",
                "        document_embeddings = encoder.encode(chunks)\n",
                "        new_row = pd.DataFrame(\n",
                "            {\n",
                "                \"path\": [pdf_path],\n",
                "                \"text_chunks\": [chunks],\n",
                "                \"embeddings\": [document_embeddings],\n",
                "            }\n",
                "        )\n",
                "        df_documents = pd.concat([df_documents, new_row], ignore_index=True)\n",
                "\n",
                "df_documents"
            ]
        },
        {
            "cell_type": "markdown",
            "metadata": {
                "id": "aae677d77756"
            },
            "source": [
                "## Creating a FAISS index from all document embeddings\n",
                "\n",
                "Faiss is a library for efficient similarity search and clustering of vectors. The IndexFlatL2 algorithm will be applied to all chunk embedding vectors."
            ]
        },
        {
            "cell_type": "code",
            "execution_count": null,
            "metadata": {
                "id": "Vsp1NhGNPyJb"
            },
            "outputs": [],
            "source": [
                "all_embeddings = np.vstack(df_documents[\"embeddings\"].tolist())\n",
                "dimension = all_embeddings.shape[1]\n",
                "index = faiss.IndexFlatL2(dimension)\n",
                "index.add(all_embeddings)"
            ]
        },
        {
            "cell_type": "markdown",
            "metadata": {
                "id": "1a1df3e91076"
            },
            "source": [
                "## Calculating the embedding distance and generating an answer\n",
                "\n",
                "The `find_most_similar_chunks()` function will create an embedding vector for your query and compare its similarity to all the chunks it retrieved from the PDF files, returning the most similar one, which will be used as the context for the next function.\n",
                "\n",
                "The `generate_response()` function will generate an answer using  selected model based on the context retrieved from the most similar info chunk."
            ]
        },
        {
            "cell_type": "code",
            "execution_count": null,
            "metadata": {
                "id": "6TxTcBlnHo_v"
            },
            "outputs": [],
            "source": [
                "def find_most_similar_chunks(query, top_k=3):\n",
                "    query_embedding = encoder.encode([query])\n",
                "    distances, indices = index.search(query_embedding, top_k)\n",
                "    results = []\n",
                "    total_chunks = sum(len(chunks) for chunks in df_documents[\"text_chunks\"])\n",
                "    for i, idx in enumerate(indices[0]):\n",
                "        if idx < total_chunks:\n",
                "            doc_idx = 0\n",
                "            chunk_idx = idx\n",
                "            while chunk_idx >= len(df_documents[\"text_chunks\"].iloc[doc_idx]):\n",
                "                chunk_idx -= len(df_documents[\"text_chunks\"].iloc[doc_idx])\n",
                "                doc_idx += 1\n",
                "            results.append(\n",
                "                {\n",
                "                    \"document\": df_documents[\"path\"].iloc[doc_idx],\n",
                "                    \"chunk\": df_documents[\"text_chunks\"].iloc[doc_idx][chunk_idx],\n",
                "                    \"distance\": distances[0][i],\n",
                "                }\n",
                "            )\n",
                "    return results\n",
                "\n",
                "\n",
                "def generate_response(query, context, max_length=1000):\n",
                "    prompt = f\"Context: {context}\\n\\nQuestion: {query}\\n\\nAnswer:\"\n",
                "    input_ids = tokenizer(prompt, return_tensors=\"pt\").input_ids.to(\"cuda\")\n",
                "\n",
                "    with torch.no_grad():\n",
                "        output = model.generate(\n",
                "            input_ids, max_new_tokens=max_length, num_return_sequences=1\n",
                "        )\n",
                "\n",
                "    decoded_output = tokenizer.decode(output[0], skip_special_tokens=True)\n",
                "\n",
                "    # Extracting the answer part by removing the prompt portion\n",
                "    answer_start = decoded_output.find(\"Answer:\") + len(\"Answer:\")\n",
                "    answer = decoded_output[answer_start:].strip()\n",
                "\n",
                "    return answer\n",
                "\n",
                "\n",
                "def query_documents(query):\n",
                "    similar_chunks = find_most_similar_chunks(query)\n",
                "    context = \" \".join([result[\"chunk\"].replace(\"\\n\", \"\") for result in similar_chunks])\n",
                "    response = generate_response(query, context)\n",
                "    return response, similar_chunks"
            ]
        },
        {
            "cell_type": "markdown",
            "metadata": {
                "id": "6972b9d8fbe6"
            },
            "source": [
                "## Looking for info in the PDFs\n",
                "\n",
                "The variable `query` contains the information you want to retrieve from the PDF files."
            ]
        },
        {
            "cell_type": "code",
            "execution_count": null,
            "metadata": {
                "id": "kKLnKXHKHxe4",
                "colab": {
                    "base_uri": "https://localhost:8080/"
                },
                "outputId": "2e902c2a-a061-4991-81a0-803d93747a26"
            },
            "outputs": [
                {
                    "output_type": "stream",
                    "name": "stdout",
                    "text": [
                        "\n",
                        "\n",
                        "--Response---\n",
                        "\n",
                        "Query: Tell me about how Azure OpenAI Service use personal data\n",
                        "\n",
                        "-----\n",
                        "\n",
                        "Generated answer: The Azure OpenAI Service uses personal data in a few key ways:\n",
                        "\n",
                        "**1. Prompt Engineering:** When you use the service, you provide prompts, and the service uses its AI to generate responses. This process involves analyzing your prompts and the context of your requests to generate relevant and accurate outputs.\n",
                        "\n",
                        "**2. \"On Your Data\" Feature:** This feature allows you to use your own data to augment prompts and generate responses. The service retrieves relevant data from a configured Customer Data store and uses it to enhance the generated content. This feature enables you to run supported LLMs on your organization's data without needing to train or fine-tune models.\n",
                        "\n",
                        "**3. Security and Privacy:** The Azure OpenAI Service prioritizes security and privacy. It implements technical and organizational measures to ensure the protection of personal data. This includes measures to prevent unauthorized access, use, disclosure, alteration, or destruction of personal data.\n",
                        "\n",
                        "**Key Points:**\n",
                        "\n",
                        "* **Customer Data:** The service uses your data only when you use the \"on your data\" feature.\n",
                        "* **Data Residency:** Azure OpenAI Service adheres to data residency commitments, ensuring that your data is stored and processed in a location that complies with your data protection regulations.\n",
                        "* **GDPR Compliance:** The service is designed to comply with the General Data Protection Regulation (GDPR).\n",
                        "\n",
                        "\n",
                        "**Important Note:** The Azure OpenAI Service does not use your data to train foundation models or improve Microsoft or third-party products or services without your permission.\n",
                        "\n",
                        "-----\n",
                        "\n",
                        "Relevant chunks:\n",
                        "Document: /content/GDPR-GenAI.pdf\n",
                        "Chunk: • are NOT available to OpenAI. • are NOT used to train foundation models  without the customer’s permission. • are NOT used to improve any Microsoft or 3rd party products or services. • are NOT used for automatically improving Azure OpenAI models  for your use in your resource (the models are stateless unless you explicitly fine-tune models with your training data). Customer fine-tuned Azure OpenAI models are available exclusively for your organization’s use. How does the Azure OpenAI Service use personal data? 24Security for Azure OpenAI  As noted in Part 2 of this paper , the GDPR requires data controllers and data processors to implement appropriate technical and organisational measures to ensure a level of security for any personal data which they process. Security is built-in throughout the development lifecycle of all of our enterprise services (including those that include generative AI technology), from inception to deployment.\n",
                        "Distance: 0.383766233921051\n",
                        "\n",
                        "Document: /content/GDPR-GenAI.pdf\n",
                        "Chunk: Prompts are submitted by the user, and content is generated by the service, via the completions, chat completions, images, and embeddings operations. This process improves the accuracy and relevance of responses, optimizing the performance of the model. Learn more about prompt engineering . •\tAzure OpenAI On Your Data : When using the “on your data” feature, the service retrieves relevant data from a configured Customer Data store and augments the prompt to produce generations that are grounded with your data. Azure OpenAI “on your data” enables you to run supported LLMs on your organization’s data without needing to train or fine-tune models. Running models on Customer Data enables you to analyze your data with greater accuracy and speed. By doing so, you can unlock valuable insights that can help you make better decisions, identify trends and patterns, and optimize your operations.\n",
                        "Distance: 0.6010721921920776\n",
                        "\n",
                        "Document: /content/GDPR-GenAI.pdf\n",
                        "Chunk: Copilot for Microsoft 365 has been added as a covered workload in the data residency commitments in the Microsoft Product Terms. Microsoft Advanced Data Residency (ADR) and Multi-Geo Capabilities  offerings also include data residency commitments for Copilot for Microsoft 365 customers. Learn more about Data, Privacy, and Security for Capilot for Microsoft 365.Copilot for Microsoft 365.Understanding how generative AI products and services operate and use personal data is the foundation for compliance with a number of obligations under the GDPR. This Part 4 provides information and links to various external resources which can help you understand how Azure OpenAI Service operates and provides key information about the service and its features which can be used to assist with completion of a DPIA or other data protection assessment/analysis. What is Azure OpenAI Service  and how does it work?\n",
                        "Distance: 0.6045421361923218\n",
                        "\n"
                    ]
                }
            ],
            "source": [
                "query = \"Tell me about how Azure OpenAI Service use personal data\"\n",
                "answer, relevant_chunks = query_documents(query)\n",
                "\n",
                "print(\"\\n\\n--Response---\\n\")\n",
                "print(f\"Query: {query}\\n\\n-----\\n\")\n",
                "print(f\"Generated answer: {answer}\\n\\n-----\\n\")\n",
                "print(\"Relevant chunks:\")\n",
                "for chunk in relevant_chunks:\n",
                "    print(f\"Document: {chunk['document']}\")\n",
                "    print(f\"Chunk: {chunk['chunk']}\".replace(\"\\n\", \"\"))\n",
                "    print(f\"Distance: {chunk['distance']}\")\n",
                "    print()"
            ]
        }
    ],
    "metadata": {
        "accelerator": "GPU",
        "colab": {
            "provenance": []
        },
        "kernelspec": {
            "display_name": "Python 3",
            "name": "python3"
        }
      
    },
    "nbformat": 4,
    "nbformat_minor": 0
}
